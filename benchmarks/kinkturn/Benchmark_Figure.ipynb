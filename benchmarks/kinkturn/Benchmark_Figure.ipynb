{
 "cells": [
  {
   "cell_type": "code",
   "execution_count": null,
   "id": "3b0965b4",
   "metadata": {},
   "outputs": [],
   "source": []
  },
  {
   "cell_type": "code",
   "execution_count": null,
   "id": "c98ce5ee",
   "metadata": {},
   "outputs": [],
   "source": [
    "\n",
    "#Counter({('dssr', 'TRUE'): 9, ('artem,dssr', 'TRUE'): 6, ('dssr,rmsx', 'TRUE'): 6, \n",
    "#('artem,dssr,rmsx', 'TRUE'): 4, ('artem', 'TRUE'): 2, ('artem,rmsx', 'TRUE'): 1, ('dssr', 'FALSE'): 1})\n"
   ]
  },
  {
   "cell_type": "code",
   "execution_count": null,
   "id": "95d4c8f6",
   "metadata": {},
   "outputs": [],
   "source": [
    "#Counter({('artem,dssr', 'TRUE'): 175, ('artem', 'TRUE'): 74, \n",
    "#('dssr', 'TRUE'): 71, ('dssr', 'FALSE'): 36, ('dssr,rmsx', 'TRUE'): 6, \n",
    "#('artem,dssr,rmsx', 'TRUE'): 4, ('artem,rmsx', 'TRUE'): 1, ('artem', 'FALSE'): 1})"
   ]
  },
  {
   "cell_type": "code",
   "execution_count": 9,
   "id": "2aa2bf6c",
   "metadata": {},
   "outputs": [],
   "source": [
    "#Counter({('artem,dssr', 'TRUE'): 179, ('artem', 'TRUE'): 75, \n",
    "#('dssr', 'TRUE'): 77, ('dssr', 'FALSE'): 36,\n",
    "# ('artem', 'FALSE'): 1}) new topologies = 412\n",
    "\n",
    "from upsetplot import from_memberships\n",
    "example = from_memberships(\n",
    "    [[\"ARTEM\", 'New topologies'],\n",
    "     ['ARTEM', \"DSSR\", \"Kink-turns\"],\n",
    "     ['DSSR', 'Kink-turns'],\n",
    "     ['ARTEM', \"Kink-turns\"],\n",
    "     ['DSSR'],\n",
    "     ['ARTEM'],\n",
    "     ],\n",
    "     data=[412, 179, 77, 75, 36, 1]\n",
    ")"
   ]
  },
  {
   "cell_type": "code",
   "execution_count": 12,
   "id": "398f168d",
   "metadata": {},
   "outputs": [
    {
     "data": {
      "text/plain": [
       "<Figure size 432x288 with 0 Axes>"
      ]
     },
     "metadata": {},
     "output_type": "display_data"
    },
    {
     "data": {
      "image/png": "[encoded data removed]",
      "text/plain": [
       "<Figure size 384x320 with 4 Axes>"
      ]
     },
     "metadata": {
      "needs_background": "light"
     },
     "output_type": "display_data"
    }
   ],
   "source": [
    "from upsetplot import plot\n",
    "\n",
    "from matplotlib import pyplot as plt\n",
    "plt.suptitle(\"ARTEM-DSSR benchmark (2394 PDB entries)\")\n",
    "plot(example, show_counts=\"{:,}\") \n",
    "plt.savefig(\"kinkbench.svg\")\n",
    "plt.show()  \n"
   ]
  },
  {
   "cell_type": "code",
   "execution_count": 3,
   "id": "3579896d",
   "metadata": {},
   "outputs": [],
   "source": []
  },
  {
   "cell_type": "code",
   "execution_count": null,
   "id": "896cbf51",
   "metadata": {},
   "outputs": [],
   "source": []
  },
  {
   "cell_type": "code",
   "execution_count": null,
   "id": "618bd15d",
   "metadata": {},
   "outputs": [],
   "source": []
  }
 ],
 "metadata": {
  "kernelspec": {
   "display_name": "Python 3 (ipykernel)",
   "language": "python",
   "name": "python3"
  },
  "language_info": {
   "codemirror_mode": {
    "name": "ipython",
    "version": 3
   },
   "file_extension": ".py",
   "mimetype": "text/x-python",
   "name": "python",
   "nbconvert_exporter": "python",
   "pygments_lexer": "ipython3",
   "version": "3.8.10"
  }
 },
 "nbformat": 4,
 "nbformat_minor": 5
}
