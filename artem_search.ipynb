{
 "cells": [
  {
   "cell_type": "code",
   "execution_count": 1,
   "metadata": {},
   "outputs": [],
   "source": [
    "from urslib2 import RSS\n",
    "import urslib2.SS.Relation as Relation\n",
    "import os, glob"
   ]
  },
  {
   "cell_type": "code",
   "execution_count": null,
   "metadata": {},
   "outputs": [],
   "source": [
    "PDBPATH   = \"../models/*.cif1\"\n",
    "MOTIFPATH = \"refmotifs/*\"\n",
    "ARTEMPATH = \"ARTEM/artem.py\"\n",
    "\n",
    "SIZETHR   = 12  #  12 residues minimum\n",
    "RMSDTHR   = 2.0 # 2.0 angstrom RMSD maximum"
   ]
  },
  {
   "cell_type": "code",
   "execution_count": 2,
   "metadata": {},
   "outputs": [
    {
     "data": {
      "text/plain": [
       "(7256, 2)"
      ]
     },
     "execution_count": 2,
     "metadata": {},
     "output_type": "execute_result"
    }
   ],
   "source": [
    "files  = sorted(glob.glob(PDBPATH))\n",
    "motifs = sorted(glob.glob(MOTIFPATH))\n",
    "len(files), len(motifs)"
   ]
  },
  {
   "cell_type": "code",
   "execution_count": 4,
   "metadata": {},
   "outputs": [],
   "source": [
    "scheme = \"-2b -2n -1b -1n L1 L1p 1n 1b 2b 2n 3b 3n 4b 4n\".split()\n",
    "\n",
    "cores = {\"1ffk_0_kt7.cif\": { \"L1\":\"0.G.94.\", \"L1p\":None,\n",
    "                            \"-1b\":\"0.C.93.\", \"-1n\":\"0.G.81.\", \n",
    "                            \"-2b\":\"0.G.92.\", \"-2n\":\"0.C.82.\", \n",
    "                             \"1n\":\"0.A.80.\",  \"1b\":\"0.G.97.\",\n",
    "                             \"2b\":\"0.A.98.\",  \"2n\":\"0.G.79.\",\n",
    "                             \"3b\":\"0.A.99.\",  \"3n\":\"0.G.78.\",\n",
    "                             \"4b\":\"0.C.100.\", \"4n\":\"0.G.77.\"},\n",
    "         \n",
    "         \"3d2g_A_kj.cif\":  { \"L1\":\"A.C.38.\", \"L1p\":\"A.G.8.\",\n",
    "                            \"-1b\":\"A.C.37.\", \"-1n\":\"A.G.9.\", \n",
    "                            \"-2b\":\"A.C.36.\", \"-2n\":\"A.G.10.\",\n",
    "                             \"1n\":\"A.A.72.\",  \"1b\":\"A.G.42.\",\n",
    "                             \"2b\":\"A.A.44.\",  \"2n\":\"A.G.71.\",\n",
    "                             \"3b\":\"A.C.45.\",  \"3n\":\"A.G.70.\",\n",
    "                             \"4b\":\"A.C.46.\",  \"4n\":\"A.G.69.\"},\n",
    "        }\n",
    "\n",
    "qres = {m:' '.join([\":_{}\".format(cores[m][x].split('.')[-2]) \n",
    "                    for x in scheme if cores[m][x]]) \n",
    "        for m in [os.path.basename(x) for x in motifs]}"
   ]
  },
  {
   "cell_type": "code",
   "execution_count": null,
   "metadata": {},
   "outputs": [],
   "source": []
  },
  {
   "cell_type": "code",
   "execution_count": null,
   "metadata": {},
   "outputs": [],
   "source": []
  },
  {
   "cell_type": "code",
   "execution_count": null,
   "metadata": {},
   "outputs": [],
   "source": [
    "def AtomDist(a1,a2):\n",
    "    return (a1['X']-a2['X'])**2 + (a1['Y']-a2['Y'])**2 + (a1['Z']-a2['Z'])**2\n",
    "\n",
    "cnt = 0\n",
    "outp = open(\"rawhits.tsv\",'w')\n",
    "\n",
    "title = ['PDB', \"MOL\", 'REFERENCE','SIZE','RMSD'] +\\\n",
    "        scheme + [x+'BASE' for x in scheme] + [x+'SS' for x in scheme] +\\\n",
    "        [\"XwayJunction\",\"RANGE\",\"KINK\",\"TYPE\"]\n",
    "\n",
    "outp.write(\"\\t\".join(title)+'\\n')\n",
    "\n",
    "for file in files:\n",
    "    outpath = file.replace(\"/models/\",\"/out/\").replace(\".cif\",\".out\")\n",
    "    model   = RSS.SecStruct(file, outpath)\n",
    "    cnt += 1\n",
    "    pdb = os.path.basename(file)\n",
    "    print(pdb, cnt)\n",
    "    juncd = {}\n",
    "    for loop in model.loops['JUNCTION']:\n",
    "        xway = loop['THREADSNUM']\n",
    "        if not loop['PTYPE'] == 'C':\n",
    "            continue\n",
    "        for t in loop['TLOOP']:\n",
    "            thread = model.threads[t['THREAD']-1]\n",
    "            if thread['LEN']:\n",
    "                for nucl in model.chains[thread['CHAIN']][thread['START'][1]]\\\n",
    "                                        [thread[\"START\"][2]:thread[\"END\"][2]+1]:\n",
    "                    juncd[nucl['DSSR']] = xway\n",
    "    \n",
    "    for motif in motifs:\n",
    "        ref = os.path.basename(motif)\n",
    "        os.system('python {} r={} rformat=cif q={} qres=\"{}\" sizemin={} rmsdmax={} > out.tmp'\\\n",
    "                  .format(ARTEMPATH,file,motif,qres[motif],SIZETHR,RMSDTHR))\n",
    "        with open('out.tmp') as inp:\n",
    "            for line in inp:\n",
    "                if not line.startswith(\"ID\"):\n",
    "                    linesplit = line.strip().split()\n",
    "                    size, rmsd = linesplit[1], linesplit[2]\n",
    "                    match = (pair.split('=') for pair in linesplit[-1].split(','))\n",
    "                    match = {y.split('.',1)[1]:x.split('.',1)[1] for x,y in match}\n",
    "                    core = {token:match[cores[ref][token]] \n",
    "                            if cores[ref][token] and cores[ref][token] in match\n",
    "                            else ''\n",
    "                            for token in scheme}\n",
    "                    coress = {token:model.NuclSS(core[token]) if core[token] else '' for token in core}\n",
    "                    \n",
    "                    xway = set()\n",
    "                    for dssr in core.values():\n",
    "                        if dssr and dssr in juncd:\n",
    "                            xway.add(juncd[dssr])\n",
    "                    xway = ','.join([str(x) for x in sorted(xway)])\n",
    "                    \n",
    "                    lclr = \"NA\"\n",
    "                    if core['L1'] and core['1n'] and core['2b']:\n",
    "                        if model.NuclRelation(core['L1'],core['1n']) == 'LR' and\\\n",
    "                           model.NuclRelation(core['L1'],core['2b']) == 'LR':\n",
    "                            lclr = 'LR'\n",
    "                        else:\n",
    "                            lclr = 'LC'\n",
    "                    \n",
    "                    kink = 'NA'\n",
    "                    if core['L1'] and core['2b']:\n",
    "                        if 0 <= model.SeqDist(core['L1'],core['2b']) < 10:\n",
    "                            kink = 'YES'\n",
    "                        else:\n",
    "                            kink = 'NO'\n",
    "                    \n",
    "                    Type = 'NA'\n",
    "                    if core['L1'] and core['1n']:\n",
    "                        n1 = Relation.GetNuclByDSSR(model,core['L1'])\n",
    "                        n2 = Relation.GetNuclByDSSR(model,core['1n'])\n",
    "                        if n2['NAME'] in {'A','G'}:       \n",
    "                            try:\n",
    "                                atom1 = [atom for atom in n1['ATOMS'] if atom['NAME']==\"O2'\"][0]\n",
    "                                atom2 = [atom for atom in n2['ATOMS'] if atom['NAME']==\"N1\"][0]\n",
    "                                atom3 = [atom for atom in n2['ATOMS'] if atom['NAME']==\"N3\"][0]\n",
    "                                if AtomDist(atom1,atom2) <= AtomDist(atom1,atom3):\n",
    "                                    Type = \"N1\"\n",
    "                                else:\n",
    "                                    Type = \"N3\"\n",
    "                            except:\n",
    "                                pass\n",
    "                            \n",
    "                    mols = {model.molecules[model.chains[dssr.split('.')[0]]['MOL_ID']]['MOLECULE'] \n",
    "                            for dssr in core.values() if dssr}\n",
    "                    mols = ','.join(sorted(mols))\n",
    "                    \n",
    "                    res = [pdb,mols,ref,size,rmsd]\n",
    "                    res += [core[t] for t in scheme]\n",
    "                    res += [core[t].split('.')[1] if core[t] else '' for t in scheme]\n",
    "                    res += [coress[t] for t in scheme]\n",
    "                    res += [xway, lclr, kink, Type]\n",
    "                    outp.write(\"\\t\".join([str(x) for x in res])+'\\n')\n",
    "                            \n",
    "outp.close()              "
   ]
  },
  {
   "cell_type": "code",
   "execution_count": null,
   "metadata": {},
   "outputs": [],
   "source": []
  },
  {
   "cell_type": "code",
   "execution_count": null,
   "metadata": {},
   "outputs": [],
   "source": []
  },
  {
   "cell_type": "code",
   "execution_count": null,
   "metadata": {},
   "outputs": [],
   "source": []
  },
  {
   "cell_type": "code",
   "execution_count": null,
   "metadata": {},
   "outputs": [],
   "source": []
  },
  {
   "cell_type": "code",
   "execution_count": null,
   "metadata": {},
   "outputs": [],
   "source": []
  },
  {
   "cell_type": "code",
   "execution_count": null,
   "metadata": {},
   "outputs": [],
   "source": []
  },
  {
   "cell_type": "code",
   "execution_count": null,
   "metadata": {},
   "outputs": [],
   "source": []
  },
  {
   "cell_type": "code",
   "execution_count": null,
   "metadata": {},
   "outputs": [],
   "source": []
  },
  {
   "cell_type": "code",
   "execution_count": null,
   "metadata": {},
   "outputs": [],
   "source": []
  },
  {
   "cell_type": "code",
   "execution_count": null,
   "metadata": {},
   "outputs": [],
   "source": []
  },
  {
   "cell_type": "code",
   "execution_count": null,
   "metadata": {},
   "outputs": [],
   "source": []
  },
  {
   "cell_type": "code",
   "execution_count": null,
   "metadata": {},
   "outputs": [],
   "source": []
  },
  {
   "cell_type": "code",
   "execution_count": null,
   "metadata": {},
   "outputs": [],
   "source": []
  },
  {
   "cell_type": "code",
   "execution_count": null,
   "metadata": {},
   "outputs": [],
   "source": []
  },
  {
   "cell_type": "code",
   "execution_count": null,
   "metadata": {},
   "outputs": [],
   "source": []
  },
  {
   "cell_type": "code",
   "execution_count": null,
   "metadata": {},
   "outputs": [],
   "source": []
  },
  {
   "cell_type": "code",
   "execution_count": null,
   "metadata": {},
   "outputs": [],
   "source": []
  },
  {
   "cell_type": "code",
   "execution_count": null,
   "metadata": {},
   "outputs": [],
   "source": []
  }
 ],
 "metadata": {
  "kernelspec": {
   "display_name": "Python 3 (ipykernel)",
   "language": "python",
   "name": "python3"
  },
  "language_info": {
   "codemirror_mode": {
    "name": "ipython",
    "version": 3
   },
   "file_extension": ".py",
   "mimetype": "text/x-python",
   "name": "python",
   "nbconvert_exporter": "python",
   "pygments_lexer": "ipython3",
   "version": "3.8.10"
  }
 },
 "nbformat": 4,
 "nbformat_minor": 4
}
