{
 "cells": [
  {
   "cell_type": "code",
   "execution_count": 1,
   "metadata": {},
   "outputs": [],
   "source": [
    "from urslib2 import RSS\n",
    "import urslib2.SS.Relation as Relation\n",
    "import os, glob"
   ]
  },
  {
   "cell_type": "markdown",
   "metadata": {},
   "source": [
    "## Merging identical hits found for several reference motifs"
   ]
  },
  {
   "cell_type": "code",
   "execution_count": null,
   "metadata": {},
   "outputs": [],
   "source": [
    "hits = []\n",
    "with open(\"rawhits.tsv\") as file:\n",
    "    lines = file.readlines()\n",
    "    title = lines[0].strip().split('\\t')\n",
    "    for line in lines[1:]:\n",
    "        linesplit = line.strip().split('\\t')\n",
    "        hit = {title[i]:linesplit[i] for i in range(len(title))}\n",
    "        hit['SIZE'] = int(hit['SIZE'])\n",
    "        hit['RMSD'] = float(hit['RMSD'])\n",
    "        hit['ID'] = hit['PDB']\n",
    "        for pos in ('-2b','-2n','-1b','-1n', 'L1', 'L1p', '1n', '1b', '2b', '2n', '3b', '3n', '4b', '4n'):\n",
    "            hit['ID'] += pos + '=' + hit[pos] + ';'\n",
    "        hits.append(hit)\n",
    "#print(len(hits))"
   ]
  },
  {
   "cell_type": "code",
   "execution_count": null,
   "metadata": {},
   "outputs": [],
   "source": [
    "besthits = {}\n",
    "\n",
    "for hit in hits:\n",
    "    if hit['ID'] not in besthits:\n",
    "        besthits[hit['ID']] = (hit['SIZE'],hit['RMSD'])\n",
    "    elif hit['SIZE'] > besthits[hit['ID']][0]:\n",
    "        besthits[hit['ID']] = (hit['SIZE'],hit['RMSD'])\n",
    "    elif hit['SIZE'] == besthits[hit['ID']][0] and hit['RMSD'] < besthits[hit['ID']][1]:\n",
    "        besthits[hit['ID']] = (hit['SIZE'],hit['RMSD'])\n",
    "#print(len(besthits))"
   ]
  },
  {
   "cell_type": "code",
   "execution_count": 4,
   "metadata": {},
   "outputs": [],
   "source": [
    "with open(\"mergedhits.tsv\",'w') as outp:\n",
    "    outp.write(\"\\t\".join(title)+'\\n')\n",
    "    for hit in hits:\n",
    "        if (hit['SIZE'],hit['RMSD']) == besthits[hit['ID']]:\n",
    "            outp.write('\\t'.join([str(hit[x]) for x in title])+'\\n')"
   ]
  },
  {
   "cell_type": "markdown",
   "metadata": {},
   "source": [
    "## Removing sub-hits & hits missing at least one of those positions: -1b,-1n, L1, 1n, 1b, 2b, 2n"
   ]
  },
  {
   "cell_type": "code",
   "execution_count": null,
   "metadata": {},
   "outputs": [],
   "source": [
    "hits = []\n",
    "with open(\"mergedhits.tsv\") as file:\n",
    "    lines = file.readlines()\n",
    "    title = lines[0].strip().split('\\t')\n",
    "    for line in lines[1:]:\n",
    "        linesplit = line.strip().split('\\t')\n",
    "        hit = {title[i]:linesplit[i] for i in range(len(title))}\n",
    "        hit['SIZE'] = int(hit['SIZE'])\n",
    "        hit['RMSD'] = float(hit['RMSD'])\n",
    "        hit['ID'] = hit['PDB']\n",
    "        for pos in ('-2b','-2n','-1b','-1n', 'L1', 'L1p', '1n', '1b', '2b', '2n', '3b', '3n', '4b', '4n'):\n",
    "            hit['ID'] += pos + '=' + hit[pos] + ';'\n",
    "        hits.append(hit)\n",
    "#print(len(hits))"
   ]
  },
  {
   "cell_type": "code",
   "execution_count": null,
   "metadata": {},
   "outputs": [],
   "source": [
    "\n",
    "def IsInferior(hit1, hit2):\n",
    "    res1 = [hit1[x] for x in ('-2b','-2n','-1b','-1n', 'L1', 'L1p', '1n', \n",
    "                              '1b', '2b', '2n', '3b', '3n', '4b', '4n')]\n",
    "    res2 = [hit2[x] for x in ('-2b','-2n','-1b','-1n', 'L1', 'L1p', '1n', \n",
    "                              '1b', '2b', '2n', '3b', '3n', '4b', '4n')]\n",
    "    if all((x and y and x==y) or (x and not y) or (not x and not y) for x,y in zip(res1,res2)):\n",
    "        return True\n",
    "    else:\n",
    "        return False\n",
    "\n",
    "inferior = set()\n",
    "pdbs = {}\n",
    "for hit in hits:\n",
    "    if hit['PDB'] not in pdbs:\n",
    "        pdbs[hit['PDB']] = []\n",
    "    pdbs[hit['PDB']].append(hit)\n",
    "\n",
    "for pdb in pdbs:\n",
    "    print(pdb[:4],end=' ')\n",
    "    for i in range(len(pdbs[pdb])-1):\n",
    "        for j in range(i+1,len(pdbs[pdb])):\n",
    "            if IsInferior(pdbs[pdb][i],pdbs[pdb][j]):\n",
    "                inferior.add(pdbs[pdb][j]['ID'])\n",
    "            elif IsInferior(pdbs[pdb][j],pdbs[pdb][i]):\n",
    "                inferior.add(pdbs[pdb][i]['ID'])\n",
    "#len(inferior)"
   ]
  },
  {
   "cell_type": "code",
   "execution_count": 12,
   "metadata": {},
   "outputs": [],
   "source": [
    "with open(\"filteredhits.tsv\",'w') as outp:\n",
    "    outp.write(\"\\t\".join(title)+'\\n')\n",
    "    for hit in hits:\n",
    "        if hit['ID'] not in inferior and all(hit[x] for x in ('-1b','-1n', 'L1', '1n', '1b', '2b', '2n')):\n",
    "            outp.write('\\t'.join([str(hit[x]) for x in title])+'\\n')"
   ]
  },
  {
   "cell_type": "code",
   "execution_count": null,
   "metadata": {},
   "outputs": [],
   "source": []
  },
  {
   "cell_type": "code",
   "execution_count": null,
   "metadata": {},
   "outputs": [],
   "source": []
  },
  {
   "cell_type": "code",
   "execution_count": null,
   "metadata": {},
   "outputs": [],
   "source": []
  },
  {
   "cell_type": "code",
   "execution_count": null,
   "metadata": {},
   "outputs": [],
   "source": []
  },
  {
   "cell_type": "code",
   "execution_count": null,
   "metadata": {},
   "outputs": [],
   "source": []
  },
  {
   "cell_type": "code",
   "execution_count": null,
   "metadata": {},
   "outputs": [],
   "source": []
  },
  {
   "cell_type": "code",
   "execution_count": null,
   "metadata": {},
   "outputs": [],
   "source": []
  },
  {
   "cell_type": "code",
   "execution_count": null,
   "metadata": {},
   "outputs": [],
   "source": []
  },
  {
   "cell_type": "code",
   "execution_count": null,
   "metadata": {},
   "outputs": [],
   "source": []
  },
  {
   "cell_type": "code",
   "execution_count": null,
   "metadata": {},
   "outputs": [],
   "source": []
  },
  {
   "cell_type": "code",
   "execution_count": null,
   "metadata": {},
   "outputs": [],
   "source": []
  },
  {
   "cell_type": "code",
   "execution_count": null,
   "metadata": {},
   "outputs": [],
   "source": []
  }
 ],
 "metadata": {
  "kernelspec": {
   "display_name": "Python 3 (ipykernel)",
   "language": "python",
   "name": "python3"
  },
  "language_info": {
   "codemirror_mode": {
    "name": "ipython",
    "version": 3
   },
   "file_extension": ".py",
   "mimetype": "text/x-python",
   "name": "python",
   "nbconvert_exporter": "python",
   "pygments_lexer": "ipython3",
   "version": "3.8.10"
  }
 },
 "nbformat": 4,
 "nbformat_minor": 4
}
